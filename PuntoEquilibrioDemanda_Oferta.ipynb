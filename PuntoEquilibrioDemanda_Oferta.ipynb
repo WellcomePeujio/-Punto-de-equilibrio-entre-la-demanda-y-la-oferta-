{
  "nbformat": 4,
  "nbformat_minor": 0,
  "metadata": {
    "colab": {
      "private_outputs": true,
      "provenance": [],
      "authorship_tag": "ABX9TyPhtYUAOWDbb9VcvN/NXEfA",
      "include_colab_link": true
    },
    "kernelspec": {
      "name": "python3",
      "display_name": "Python 3"
    },
    "language_info": {
      "name": "python"
    }
  },
  "cells": [
    {
      "cell_type": "markdown",
      "metadata": {
        "id": "view-in-github",
        "colab_type": "text"
      },
      "source": [
        "<a href=\"https://colab.research.google.com/github/WellcomePeujio/-Punto-de-equilibrio-entre-la-demanda-y-la-oferta-/blob/main/PuntoEquilibrioDemanda_Oferta.ipynb\" target=\"_parent\"><img src=\"https://colab.research.google.com/assets/colab-badge.svg\" alt=\"Open In Colab\"/></a>"
      ]
    },
    {
      "cell_type": "markdown",
      "source": [
        "# Problema de Punto de Equilibrio entre Demanda y Oferta\n",
        "\n",
        "\n",
        "Una empresa de manufactura produce y vende un producto en un mercado competitivo. La función de demanda \\$ D(p) \\$ y la función de oferta \\$ S(p) \\$ del producto están dadas por:\n",
        "\n",
        "- **Demanda**: \\$ D(p) = 1200 - 4p \\$\n",
        "- **Oferta**: \\$ S(p) = 200 + 2p \\$\n",
        "\n",
        "donde \\$ p \\$ es el precio del producto en pesos, \\$ D(p) \\$ es la cantidad demandada por los consumidores y \\$ S(p) \\$ es la cantidad ofrecida por la empresa.\n",
        "\n",
        "**Se pide:**\n",
        "\n",
        "1. **Calcular el precio de equilibrio** \\($ p^* $\\) donde la cantidad demandada es igual a la cantidad ofrecida.\n",
        "2. **Determinar la cantidad de equilibrio** \\($ Q^* $\\) en ese precio.\n",
        "3. **Graficar las funciones de demanda y oferta**, y marcar el punto de equilibrio en el gráfico."
      ],
      "metadata": {
        "id": "T_RDiwUdi3Ud"
      }
    },
    {
      "cell_type": "markdown",
      "source": [
        "# Resolución del Problema de Punto de Equilibrio entre Demanda y Oferta\n",
        "\n",
        "## Paso 1: Calcular el Precio de Equilibrio \\$(p^*\\$)\n",
        "\n",
        "El punto de equilibrio se alcanza cuando la cantidad demandada es igual a la cantidad ofrecida. Por lo tanto, igualamos las funciones de demanda y oferta:\n",
        "\n",
        "$$\n",
        "D(p) = S(p)\n",
        "$$\n",
        "\n",
        "Sustituyendo las funciones dadas:\n",
        "\n",
        "$$\n",
        "1200 - 4p = 200 + 2p\n",
        "$$\n",
        "\n",
        "### Resolviendo para \\$(p\\$):\n",
        "\n",
        "$$\n",
        "1200 - 200 = 2p + 4p\n",
        "$$\n",
        "\n",
        "$$\n",
        "1000 = 6p\n",
        "$$\n",
        "\n",
        "$$\n",
        "p^* = \\frac{1000}{6} \\approx 166.67\n",
        "$$\n",
        "\n",
        "Por lo tanto, el precio de equilibrio \\$(p^*\\$) es de aproximadamente 166.67 pesos.\n",
        "\n",
        "## Paso 2: Determinar la Cantidad de Equilibrio \\$(Q^*\\$)\n",
        "\n",
        "Sustituimos el precio de equilibrio \\$(p^*\\$) en cualquiera de las funciones de demanda u oferta. Usaremos la función de demanda:\n",
        "\n",
        "$$\n",
        "Q^* = D(p^*) = 1200 - 4(166.67)\n",
        "$$\n",
        "\n",
        "$$\n",
        "Q^* = 1200 - 666.67 \\approx 533.33\n",
        "$$\n",
        "\n",
        "Por lo tanto, la cantidad de equilibrio \\$(Q^*\\$) es de aproximadamente 533.33 unidades.\n",
        "\n",
        "## Paso 3: Graficar las Funciones de Demanda y Oferta, y Marcar el Punto de Equilibrio\n",
        "\n",
        "A continuación, graficamos las funciones de demanda y oferta, y marcamos el punto de equilibrio  $(p^*, Q^*)$."
      ],
      "metadata": {
        "id": "5BIJ92Ohmu-t"
      }
    },
    {
      "cell_type": "code",
      "source": [
        "import numpy as np\n",
        "import matplotlib.pyplot as plt\n",
        "\n",
        "# Paso 1: Definir las funciones de demanda y oferta\n",
        "def demanda(p):\n",
        "    return 1200 - 4 * p\n",
        "\n",
        "def oferta(p):\n",
        "    return 200 + 2 * p\n",
        "\n",
        "# Paso 2: Calcular el precio de equilibrio p*\n",
        "p_equilibrio = 1000 / 6  # Calculado anteriormente\n",
        "q_equilibrio = demanda(p_equilibrio)\n",
        "\n",
        "print(f\"El precio de equilibrio (p*) es: {p_equilibrio:.2f} dólares\")\n",
        "print(f\"La cantidad de equilibrio (Q*) es: {q_equilibrio:.2f} unidades\")\n",
        "\n",
        "# Paso 3: Graficar las funciones de demanda y oferta\n",
        "p_values = np.linspace(0, 400, 500)\n",
        "d_values = demanda(p_values)\n",
        "s_values = oferta(p_values)\n",
        "\n",
        "plt.figure(figsize=(10, 6))\n",
        "plt.plot(p_values, d_values, label='Demanda (D(p))', color='blue')\n",
        "plt.plot(p_values, s_values, label='Oferta (S(p))', color='green')\n",
        "\n",
        "# Marcar el punto de equilibrio\n",
        "plt.plot(p_equilibrio, q_equilibrio, 'ro')  # Punto de equilibrio\n",
        "plt.text(p_equilibrio, q_equilibrio, f'  ($p^*$ = {p_equilibrio:.2f}, $Q^*$ = {q_equilibrio:.2f})', color='red')\n",
        "\n",
        "# Añadir detalles al gráfico\n",
        "plt.title('Punto de Equilibrio entre Demanda y Oferta')\n",
        "plt.xlabel('Precio (p)')\n",
        "plt.ylabel('Cantidad')\n",
        "plt.axvline(x=p_equilibrio, color='red', linestyle='--', linewidth=0.8)\n",
        "plt.axhline(y=q_equilibrio, color='red', linestyle='--', linewidth=0.8)\n",
        "plt.legend()\n",
        "plt.grid(True)\n",
        "plt.show()"
      ],
      "metadata": {
        "id": "QJUW-Wy8pdPi"
      },
      "execution_count": null,
      "outputs": []
    }
  ]
}